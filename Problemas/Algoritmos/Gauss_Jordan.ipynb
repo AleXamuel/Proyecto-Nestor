{
  "nbformat": 4,
  "nbformat_minor": 0,
  "metadata": {
    "colab": {
      "provenance": []
    },
    "kernelspec": {
      "name": "python3",
      "display_name": "Python 3"
    },
    "language_info": {
      "name": "python"
    }
  },
  "cells": [
    {
      "cell_type": "code",
      "execution_count": null,
      "metadata": {
        "colab": {
          "base_uri": "https://localhost:8080/"
        },
        "id": "SJ64L1q4xl0E",
        "outputId": "fafe392f-58f4-4660-d79e-1aaacc80b214"
      },
      "outputs": [
        {
          "output_type": "stream",
          "name": "stdout",
          "text": [
            "[[ 1.   0.   0.  -1.2]\n",
            " [ 0.   1.   0.   8.4]\n",
            " [-0.  -0.   1.  -2.2]]\n"
          ]
        }
      ],
      "source": [
        "import numpy as np\n",
        "\n",
        "def unos(m,x):\n",
        "    if m[x][x] != 0:\n",
        "        m[x] = m[x] / m[x][x]\n",
        "    else:\n",
        "        for i in range(x+1, m.shape[0]):\n",
        "            if m[i][x] != 0:\n",
        "                m[[x, i]] = m[[i, x]]\n",
        "                break\n",
        "    return m\n",
        "\n",
        "def ceros(m,x):\n",
        "  for i in range(m.shape[0]):\n",
        "    if i != x:\n",
        "      m[i] = m[i] -m[i, x]*m[x]\n",
        "  return m\n",
        "\n",
        "m = (np.array([[2, 4, 6, 18], [4, 5, 6, 24], [3, 1, -6, 18]]))\n",
        "m = m.astype(float)\n",
        "for x in range(m.shape[0]):\n",
        "  m = unos(m, x)\n",
        "  m = ceros(m, x)\n",
        "\n",
        "print(m)"
      ]
    }
  ]
}