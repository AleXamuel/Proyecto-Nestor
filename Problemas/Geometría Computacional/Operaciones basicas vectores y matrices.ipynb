{
 "cells": [
  {
   "cell_type": "markdown",
   "id": "72b8cb9b",
   "metadata": {},
   "source": [
    "# Operaciones con vectores y matrices"
   ]
  },
  {
   "cell_type": "markdown",
   "id": "69427880",
   "metadata": {},
   "source": [
    "# Vectores\n"
   ]
  },
  {
   "cell_type": "code",
   "execution_count": 15,
   "id": "bca27a92",
   "metadata": {
    "scrolled": true
   },
   "outputs": [
    {
     "name": "stdout",
     "output_type": "stream",
     "text": [
      "1 2 3\n",
      "4 5 6\n",
      "[5, 7, 9]\n",
      "[-3, -3, -3]\n",
      "[2, 4, 6]\n",
      "32\n"
     ]
    }
   ],
   "source": [
    "import math\n",
    "\n",
    "u = list(map(int, input().split()))\n",
    "v = list(map(int, input().split()))\n",
    "esc = 2\n",
    "\n",
    "suma = [a + b for a, b in zip(u, v)]\n",
    "resta = [a - b for a, b in zip(u, v)]\n",
    "vector_por_escalar = [esc * x for x in vector1]\n",
    "producto_punto = sum(map(mul, u, v))\n",
    "\n",
    "\n",
    "print(suma)  \n",
    "print(resta) \n",
    "print(vector_por_escalar)\n",
    "print(producto_punto)  "
   ]
  },
  {
   "cell_type": "markdown",
   "id": "6ad8f270",
   "metadata": {},
   "source": [
    "# Matrices"
   ]
  },
  {
   "cell_type": "code",
   "execution_count": 10,
   "id": "446d934b",
   "metadata": {},
   "outputs": [
    {
     "name": "stdout",
     "output_type": "stream",
     "text": [
      "[[6, 8], [10, 12]]\n",
      "[[-4, -4], [-4, -4]]\n",
      "[[19, 22], [43, 50]]\n"
     ]
    }
   ],
   "source": [
    "matriz = [[1, 2], [3, 4]]\n",
    "matriz2 = [[5, 6], [7, 8]]\n",
    "escalar = 3\n",
    "\n",
    "suma = [[a + b for a, b in zip(fila1, fila2)] for fila1, fila2 in zip(matriz, matriz2)]\n",
    "resta = [[a - b for a, b in zip(fila1, fila2)] for fila1, fila2 in zip(matriz, matriz2)]\n",
    "producto_escalar_matriz = [[escalar * x for x in fila] for fila in matriz]\n",
    "\n",
    "\n",
    "def multiplicar_matrices(matriz1, matriz2):\n",
    "    filas_matriz1 = len(matriz1)\n",
    "    columnas_matriz1 = len(matriz1[0])\n",
    "    filas_matriz2 = len(matriz2)\n",
    "    columnas_matriz2 = len(matriz2[0])\n",
    "\n",
    "    if columnas_matriz1 != filas_matriz2:\n",
    "        return None  # Las matrices no son compatibles para la multiplicación\n",
    "\n",
    "    matriz_resultado = [[0 for j in range(columnas_matriz2)] for i in range(filas_matriz1)]\n",
    "\n",
    "    # Multiplicar las matrices\n",
    "    for i in range(filas_matriz1):\n",
    "        for j in range(columnas_matriz2):\n",
    "            for k in range(columnas_matriz1):\n",
    "                matriz_resultado[i][j] += matriz1[i][k] * matriz2[k][j]\n",
    "\n",
    "    return matriz_resultado\n",
    "\n",
    "print(suma)\n",
    "print(resta)\n",
    "print(producto_escalar_matriz)\n",
    "print(multiplicar_matrices(matriz, matriz2))"
   ]
  }
 ],
 "metadata": {
  "kernelspec": {
   "display_name": "Python 3 (ipykernel)",
   "language": "python",
   "name": "python3"
  },
  "language_info": {
   "codemirror_mode": {
    "name": "ipython",
    "version": 3
   },
   "file_extension": ".py",
   "mimetype": "text/x-python",
   "name": "python",
   "nbconvert_exporter": "python",
   "pygments_lexer": "ipython3",
   "version": "3.9.13"
  }
 },
 "nbformat": 4,
 "nbformat_minor": 5
}
